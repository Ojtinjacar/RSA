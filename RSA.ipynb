{
  "nbformat": 4,
  "nbformat_minor": 0,
  "metadata": {
    "kernelspec": {
      "display_name": "Python 3",
      "language": "python",
      "name": "python3"
    },
    "language_info": {
      "codemirror_mode": {
        "name": "ipython",
        "version": 3
      },
      "file_extension": ".py",
      "mimetype": "text/x-python",
      "name": "python",
      "nbconvert_exporter": "python",
      "pygments_lexer": "ipython3",
      "version": "3.7.6"
    },
    "colab": {
      "name": "RSA.ipynb",
      "provenance": []
    }
  },
  "cells": [
    {
      "cell_type": "markdown",
      "metadata": {
        "id": "oTwjf0NkIfcg",
        "colab_type": "text"
      },
      "source": [
        "Taller RSA\n",
        "\n",
        "El RSA es un sistema criptográfico de llave pública desarrollado en el año de 1979 por Rivest, Shamir y Adleman en MIT. Es uno de los algoritmos de este tipo más utilizados. En un sistema de criptografía de llave publica cada usuario posee dos llaves, una pública y otra privada. Cuando se quiere enviar un mensaje, el emisor busca la clave pública del receptor, cifra su mensaje con esa clave, y una vez que el mensaje cifrado llega al receptor, este se ocupa de descifrarlo usando su clave privada. La seguridad del algoritmo se basa en la dificultad de resolver el problema de factorización de números enteros."
      ]
    },
    {
      "cell_type": "markdown",
      "metadata": {
        "id": "CQHVRMveE47P",
        "colab_type": "text"
      },
      "source": [
        "Generación de claves\n",
        "\n",
        "Se eligen dos números primos distintos $p$  y $q$.\n",
        "\n",
        "Se calcula $n=p\\ast q$\n",
        "\n",
        "Donde $n$ se usará como el módulo para ambas claves, pública y privada.\n",
        "\n",
        "Con Se calcula$\\varphi (n)=(p-1)\\ast (q-1)$ usando las dos propiedades de la función de Euler siguientes:\n",
        "\n",
        "$\\varphi (p)=p-1$ si $p$ es primo.\n",
        "Si $m$ y $n$ son primos entre sí, entonces $\\varphi (mn)=\\varphi (m)\\varphi (n)$\n",
        "\n",
        "Se escoge un entero positivo $e$  menor que $\\varphi (n)$, que sea coprimo con $\\varphi (n)$.\n",
        "\n",
        "$e$ se da a conocer como el exponente de la clave pública.\n",
        "\n",
        "Se determina un $d$ que satisfaga la congruencia $ e\\ast d\\equiv 1 $(mod$\\varphi(n))$, es decir, que $d$  sea el multiplicador modular inverso de $ e\\equiv 1 $(mod$n$)\n",
        "\n",
        "La clave pública es $(n,e)$ , esto es, el módulo y el exponente de cifrado. La clave privada es $(n,d)$ , esto es, el módulo y el exponente de descifrado, que debe mantenerse en secreto.\n",
        "\n",
        "Para cifrar usamos la operación $a = x^e$mod($n$) donde x es el valor a codificar\n",
        "Para descifrar usamos la operación $x = a^d$mod($n$) donde a es el valor a descodificar\n",
        "\n"
      ]
    },
    {
      "cell_type": "markdown",
      "metadata": {
        "id": "a3TFSlbJwJrI",
        "colab_type": "text"
      },
      "source": [
        "Se mostrará un ejemplo:\n",
        "\n",
        "Se eligen dos números primos, por ejemplo, $p=7$ y $q=11$\n",
        "\n",
        "Calcula n=p*q, en este caso, $n=7*11=77$\n",
        "\n",
        "Calcula z=(p-1)*(q-1), en nuestro caso: $z=( 7 – 1 ) * ( 11 – 1 ) = 60$\n",
        "\n",
        "Elige un número primo k, tal que k sea co-primo a z, por ejemplo, z no es divisible por k.\n",
        "\n",
        "Tenemos varias opciones aquí, valores de k como pueden ser $7, 11, 13, 17$ o $19$ son válidos. $5$ es primo, pero no es co-primo de k puesto que $60 (z)$ es divisible por $5$.\n",
        "\n",
        "Elegimos $k=13$ para simplificarnos los cálculos con un número pequeño.\n",
        "\n",
        "La clave pública va a ser el conjunto de los números $(n,k)$, es decir, $(77,13)$.\n",
        "\n",
        "Ahora se calcula la clave privada. Para ello, se elige un número $f$ que verifique la siguiente ecuación:\n",
        "\n",
        "$k*f=1 ($mod $z)$\n",
        "\n",
        "En este caso:\n",
        "$13*f=1 ($mod $60)$, es decir, un valor que verifique que\n",
        "$(13*f)/60$ sea una división con resto $«1»$.\n",
        "\n",
        "Para trabajar con números chicos en este ejemplo, podríamos decir que $481 /60$ nos devuelve «algo» con resto $1$, por lo que, para este caso particular, $(13*f) = 481$, de modo que $f=37$\n",
        "\n",
        "Y la clave privada es $(77,37)$\n",
        "\n",
        "Para encriptar un número:\n",
        "\n",
        "Usamos la ecuación $a^k = t($mod $n$). Donde $a$ es el número a encriptar, $k$ es el segundo valor de la clave pública y $n$ es el primer valor de la clave pública. \n",
        "\n",
        "El valor $t$ será entregado al otro usuario, junto con la clave privada para desencriptar el número. En nuestro caso, el número a encriptar es el $14$.\n",
        "\n",
        "$14^{13} = t($mod $77$)\n"
      ]
    },
    {
      "cell_type": "code",
      "metadata": {
        "id": "-jtDI--h2IW1",
        "colab_type": "code",
        "colab": {
          "base_uri": "https://localhost:8080/",
          "height": 34
        },
        "outputId": "c809a3bc-0105-4221-a3bc-2dde4a872b24"
      },
      "source": [
        "pow(14,13,77)"
      ],
      "execution_count": 14,
      "outputs": [
        {
          "output_type": "execute_result",
          "data": {
            "text/plain": [
              "49"
            ]
          },
          "metadata": {
            "tags": []
          },
          "execution_count": 14
        }
      ]
    },
    {
      "cell_type": "markdown",
      "metadata": {
        "id": "XRN1xV7l2ZTc",
        "colab_type": "text"
      },
      "source": [
        "Para desencriptar un número:\n",
        "\n",
        "Usamos la ecuación $t^f = a($mod $n$). Donde $t$ es el número a encriptado, $f$ es el segundo valor de la clave pública y $n$ es el primer valor de la clave pública. \n",
        "\n",
        "$49^{37} = a($mod $77$)\n",
        "\n",
        "Finalmente el valor $a$, es el número inicialmente encriptado.\n"
      ]
    },
    {
      "cell_type": "code",
      "metadata": {
        "id": "bK4zRil42QCV",
        "colab_type": "code",
        "colab": {
          "base_uri": "https://localhost:8080/",
          "height": 34
        },
        "outputId": "cd244f5c-ecc2-464e-a835-54354b467e40"
      },
      "source": [
        "pow(49,37,77)"
      ],
      "execution_count": 15,
      "outputs": [
        {
          "output_type": "execute_result",
          "data": {
            "text/plain": [
              "14"
            ]
          },
          "metadata": {
            "tags": []
          },
          "execution_count": 15
        }
      ]
    },
    {
      "cell_type": "markdown",
      "metadata": {
        "id": "DjsGp1gA2ymN",
        "colab_type": "text"
      },
      "source": [
        "Explicación del código:"
      ]
    },
    {
      "cell_type": "markdown",
      "metadata": {
        "collapsed": false,
        "pycharm": {
          "name": "#%% md\n"
        },
        "id": "p4ziF2hWIfci",
        "colab_type": "text"
      },
      "source": [
        " En primer lugar, el algoritmo nos pide tomar dos numeros primos muy grandes (más de 200 dígitos). Para ello, usaremos 3 funciones cuya finalidad será retornar un numero primo que nos sirva para el código."
      ]
    },
    {
      "cell_type": "markdown",
      "metadata": {
        "pycharm": {
          "name": "#%% md\n"
        },
        "id": "jOFrDILtIfck",
        "colab_type": "text"
      },
      "source": [
        "En esta primera parte, inicializamos el rango de numeros para generar el número aleatorio."
      ]
    },
    {
      "cell_type": "code",
      "metadata": {
        "pycharm": {
          "name": "#%%\n"
        },
        "id": "_WumLadvIfcm",
        "colab_type": "code",
        "colab": {}
      },
      "source": [
        "import random\n",
        "flag20 = True\n",
        "RangoIni = 1000000000000000000000000000000000000000000000000000000000000000000000000000000000000000000000000000000000000000000000000000000000000000000000000000000000000000000000000000000000000000000000000000000000000000000000000000\n",
        "RangoFin = 9999999999999999999999999999999999999999999999999999999999999999999999999999999999999999999999999999999999999999999999999999999999999999999999999999999999999999999999999999999999999999999999999999999999999999999999999999999999999999999999999999999999999999999999999999999999999999999999999999999999999999999999\n"
      ],
      "execution_count": 17,
      "outputs": []
    },
    {
      "cell_type": "markdown",
      "metadata": {
        "pycharm": {
          "name": "#%% md\n"
        },
        "id": "pJQS9003Ifcv",
        "colab_type": "text"
      },
      "source": [
        "Esta primera función llamada \"EsPrimoo\" retorna un valor booleano el cuál determina si un número es primo o no.\n",
        "\n",
        "Para ello, hace uso de una función llamada \"TestMiller\", la cuál hablaremos más adelante."
      ]
    },
    {
      "cell_type": "code",
      "metadata": {
        "pycharm": {
          "name": "#%%\n"
        },
        "id": "a1Cy-DUNIfcx",
        "colab_type": "code",
        "colab": {}
      },
      "source": [
        "def EsPrimoo(n, k):\n",
        "    if (n <= 1 or n == 4):\n",
        "        return False\n",
        "    if (n <= 3):\n",
        "        return True\n",
        "    d = n - 1\n",
        "    while (d % 2 == 0):\n",
        "        d //= 2\n",
        "    for i in range(k):\n",
        "        if (TestMiller(d, n) == False):\n",
        "            return False\n",
        "\n",
        "    return True\n"
      ],
      "execution_count": 18,
      "outputs": []
    },
    {
      "cell_type": "markdown",
      "metadata": {
        "pycharm": {
          "name": "#%% md\n"
        },
        "id": "8BTtUltpIfdA",
        "colab_type": "text"
      },
      "source": [
        "Este algoritmo funciona para números impares y retorna un valor booleano donde sí, es verdadero, este numero es primo, de lo contrario, no lo es.\n",
        "\n",
        "Para ello hacemos uso de la función $pow$ (la cuál se encuentra en la tercera línea) , que retorna el valor x de la siguiente ecuación $a^d = x$mod($n$).\n",
        "\n"
      ]
    },
    {
      "cell_type": "code",
      "metadata": {
        "id": "mocMTANUIfdC",
        "colab_type": "code",
        "colab": {}
      },
      "source": [
        "def TestMiller(d, n):\n",
        "    a = 2 + random.randint(1, n - 4)\n",
        "    x = pow(a, d, n)\n",
        "\n",
        "    if (x == 1 or x == n - 1):\n",
        "        return True\n",
        "    while (d != n - 1):\n",
        "        x = (x * x) % n\n",
        "        d *= 2\n",
        "        if (x == 1):\n",
        "            return False\n",
        "        if (x == n - 1):\n",
        "            return True\n",
        "    return False\n"
      ],
      "execution_count": 19,
      "outputs": []
    },
    {
      "cell_type": "markdown",
      "metadata": {
        "collapsed": false,
        "pycharm": {
          "name": "#%% md\n"
        },
        "id": "DH-30-WcIfdH",
        "colab_type": "text"
      },
      "source": [
        "Esta función llamada $FuncionPhi()$ crea dos numeros enteros, usando la funcion $numprimo()$ y con estos números, hallará los valores $z$ y $o$. $z$ representa uno de los valores de la clave pública y privada, mientras que el otro servirá de modulo. Mientras que el valor $o$ será útil para hallar la clave privada."
      ]
    },
    {
      "cell_type": "code",
      "metadata": {
        "id": "gqAYB9ZaSGGK",
        "colab_type": "code",
        "colab": {}
      },
      "source": [
        "def FuncionPhi():\n",
        "    primoA = numprimo()\n",
        "    primoB = numprimo()\n",
        "    z = primoA*primoB\n",
        "    o = (primoA-1)*(primoB-1)\n",
        "    return o,z\n"
      ],
      "execution_count": 20,
      "outputs": []
    },
    {
      "cell_type": "markdown",
      "metadata": {
        "id": "XmuI3F64SHO6",
        "colab_type": "text"
      },
      "source": [
        "La función $numprimo()$ se encarga de generar un número aleatorio entre los dos rangos previamente inicializados y evaluarlo mediante la función $EsPrimoo()$ retornando el número primo. "
      ]
    },
    {
      "cell_type": "code",
      "metadata": {
        "pycharm": {
          "name": "#%%\n"
        },
        "id": "k_Dir-uoIfdI",
        "colab_type": "code",
        "colab": {}
      },
      "source": [
        "def numprimo():\n",
        "    flag = False\n",
        "    while flag != True:\n",
        "        sumtres = 0\n",
        "        a = random.randint(RangoIni, RangoFin)\n",
        "        b = str(a)\n",
        "        for d in b:\n",
        "            sumtres = sumtres + int(d)\n",
        "        c = b[len(b) - 1]\n",
        "        if int(c) != 2 and int(c) != 4 and int(c) != 5 and int(c) != 6 and int(c) != 8 and int(c) != 0 and (\n",
        "                sumtres % 3) > 0:\n",
        "            y = EsPrimoo(a, 4)\n",
        "            flag = y\n",
        "    return a\n"
      ],
      "execution_count": 21,
      "outputs": []
    },
    {
      "cell_type": "markdown",
      "metadata": {
        "collapsed": false,
        "pycharm": {
          "name": "#%% md\n"
        },
        "id": "bvywOKm3IfdP",
        "colab_type": "text"
      },
      "source": [
        "La función $hallarclavepublica(i,z)$ recibe dos parametros, siendo $i$ el valor $o$ de $FuncionPhi()$ y $z$ el valor $z$ de $FuncionPhi()$.\n",
        "Esta función crea un número primo llamado $k$ pero, este número debe ser coprimo de $i$, finalmente retorna la clave pública en una tupla."
      ]
    },
    {
      "cell_type": "code",
      "metadata": {
        "pycharm": {
          "name": "#%%\n"
        },
        "id": "P7ebT-aDIfdR",
        "colab_type": "code",
        "colab": {}
      },
      "source": [
        "def hallarclavepublica(i,z):\n",
        "    flag = False\n",
        "    while flag != True:\n",
        "        k = numprimo()\n",
        "        if k % i != 0:\n",
        "            flag = True\n",
        "    return z,k\n"
      ],
      "execution_count": 22,
      "outputs": []
    },
    {
      "cell_type": "markdown",
      "metadata": {
        "collapsed": false,
        "id": "hFMP6O79Ifdp",
        "colab_type": "text"
      },
      "source": [
        "La función $hallarclaveprivada(u,e,o)$ usa la función del algoritmo de euclides extendido para retornar el valor $a$ en la función $a \\ast o \\equiv 1 $ mod($e$).\n",
        "Esta función retorna la clave privada como tupla."
      ]
    },
    {
      "cell_type": "code",
      "metadata": {
        "pycharm": {
          "name": "#%%\n"
        },
        "id": "6Gsy4d0yIfdq",
        "colab_type": "code",
        "colab": {}
      },
      "source": [
        "def hallarclaveprivada(u,e,o):\n",
        "    a = AlgoritmoEuclides(e, o)\n",
        "    return u,a\n"
      ],
      "execution_count": 23,
      "outputs": []
    },
    {
      "cell_type": "markdown",
      "metadata": {
        "collapsed": false,
        "pycharm": {
          "name": "#%% md\n"
        },
        "id": "ZUpUaGy_Ifdu",
        "colab_type": "text"
      },
      "source": [
        "  El algoritmo de euclides retorna el valor $c$ en la función $c \\ast b \\equiv 1 $ mod($a$)\n",
        "\n",
        "  Demostración:\n",
        " \n",
        "  Supongamos que $a$ y $b$ son enteros positivos.\n",
        "\n",
        "  Aplicamos el teorema de la división repetivamente formando una lista de ecuaciones.\n",
        "  $a= q_1b + r_1$\n",
        "\n",
        "  $a= q_2r_1 + r_2$\n",
        "\n",
        "  $r_1 = q_3r_2 + r_3$ \n",
        "\n",
        "  $r_2 = q_4r_3 + r_4$ \n",
        "\n",
        "  Así sucesivamente, hasta encontrar que el resto sea $0$\n",
        "  Cuando encontramos que el resto es $0$, nos retornará el valor $q_n$\n"
      ]
    },
    {
      "cell_type": "code",
      "metadata": {
        "pycharm": {
          "name": "#%%\n"
        },
        "id": "vv5utf6JIfdv",
        "colab_type": "code",
        "colab": {}
      },
      "source": [
        "def AlgoritmoEuclides(a, b):\n",
        "    if b == 0:\n",
        "        return 0\n",
        "\n",
        "    u0 = 1\n",
        "    u1 = 0\n",
        "    v0 = 0\n",
        "    v1 = 1\n",
        "\n",
        "    while b != 0:\n",
        "        q = a // b\n",
        "        r = a - b * q\n",
        "        u = u0 - q * u1\n",
        "        v = v0 - q * v1\n",
        "        a = b\n",
        "        b = r\n",
        "        u0 = u1\n",
        "        u1 = u\n",
        "        v0 = v1\n",
        "        v1 = v\n",
        "\n",
        "    return v0\n"
      ],
      "execution_count": 24,
      "outputs": []
    },
    {
      "cell_type": "markdown",
      "metadata": {
        "collapsed": false,
        "pycharm": {
          "name": "#%% md\n"
        },
        "id": "AwOKYD3UIfd0",
        "colab_type": "text"
      },
      "source": [
        "La función $CifrarMensaje(numero, ClavePublica1, ClavePublica2)$ nos pide 3 parametros, los cuales son el número a codificar y los dos valores de la clave pública. \n",
        "\n",
        "Haremos uso de la función de python $pow$, la cuál retorna el valor x de la siguiente ecuación $a^d = x$mod($n$).\n",
        "\n",
        "Retornando el número codificado.\n"
      ]
    },
    {
      "cell_type": "code",
      "metadata": {
        "pycharm": {
          "name": "#%%\n"
        },
        "id": "GhdDbQWiIfd1",
        "colab_type": "code",
        "colab": {}
      },
      "source": [
        "def CifrarMensaje(number,ClavePublica1,ClavePublica2):\n",
        "    Final = pow(number, ClavePublica2, ClavePublica1)\n",
        "    return Final\n"
      ],
      "execution_count": 25,
      "outputs": []
    },
    {
      "cell_type": "markdown",
      "metadata": {
        "collapsed": false,
        "pycharm": {
          "name": "#%% md\n"
        },
        "id": "2pLEun8SIfd9",
        "colab_type": "text"
      },
      "source": [
        "La función $CifrarMensaje(numero, ClavePrivada1, ClavePrivada2)$ nos pide 3 parametros, los cuales son el número a descodificar y los dos valores de la clave privada. \n",
        "\n",
        "Haremos uso de la función de python $pow$, la cuál retorna el valor x de la siguiente ecuación $a^d = x$mod($n$).\n",
        "\n",
        "Y retornará el número descodificado.\n"
      ]
    },
    {
      "cell_type": "code",
      "metadata": {
        "pycharm": {
          "name": "#%%\n"
        },
        "id": "gLpXMHSlIfeB",
        "colab_type": "code",
        "colab": {}
      },
      "source": [
        "def decifrarMensaje(number,ClavePrivada1,ClavePrivada2):\n",
        "    NumberDes = pow(number, ClavePrivada2, ClavePrivada1)\n",
        "    return NumberDes\n"
      ],
      "execution_count": 26,
      "outputs": []
    },
    {
      "cell_type": "markdown",
      "metadata": {
        "collapsed": false,
        "pycharm": {
          "name": "#%% md\n"
        },
        "id": "kpv_0SzwIfeI",
        "colab_type": "text"
      },
      "source": [
        "Ejemplo 1: \n",
        "Ingresando Valores"
      ]
    },
    {
      "cell_type": "code",
      "metadata": {
        "pycharm": {
          "name": "#%%\n",
          "is_executing": true
        },
        "id": "-NzFCAR-IfeJ",
        "colab_type": "code",
        "colab": {
          "base_uri": "https://localhost:8080/",
          "height": 136
        },
        "outputId": "9f4a482e-d261-4639-cfb6-a42453151216"
      },
      "source": [
        "print(\"Ingresa el numero que quieres codificar:\")\n",
        "a = input()\n",
        "h = -1\n",
        "while h < 0:\n",
        "        p = FuncionPhi()\n",
        "        ClavePublica = hallarclavepublica(p[0], p[1])\n",
        "        ClavePrivada = hallarclaveprivada(p[1], p[0], ClavePublica[1])\n",
        "        h = ClavePrivada[1]\n",
        "        y = CifrarMensaje(int(a), ClavePublica[0], ClavePublica[1])\n",
        "print(\"¡Perfecto! Comparte la siguiente clave privada con tu compañero.\")\n",
        "print(ClavePrivada[0])\n",
        "print(ClavePrivada[1])\n",
        "print(\"Y este es el número codificado:\")\n",
        "print(y)\n"
      ],
      "execution_count": 12,
      "outputs": [
        {
          "output_type": "stream",
          "text": [
            "Ingresa el numero que quieres codificar:\n",
            "3108030311\n",
            "¡Perfecto! Comparte la siguiente clave privada con tu compañero.\n",
            "65\n",
            "17\n",
            "Y este es el número codificado:\n",
            "16\n"
          ],
          "name": "stdout"
        }
      ]
    },
    {
      "cell_type": "code",
      "metadata": {
        "id": "pGZafnrWte3I",
        "colab_type": "code",
        "colab": {
          "base_uri": "https://localhost:8080/",
          "height": 153
        },
        "outputId": "80f1c311-c570-4b95-c16d-ee7a2d53611b"
      },
      "source": [
        "print(\"¡Hola!, Ingresa el número codificado:\")\n",
        "NumCod = input()\n",
        "print(\"Ingresa el primer valor de la clave privada\")\n",
        "Val1 = input()\n",
        "print(\"Ingresa el segundo valor de la clave privada\")\n",
        "Val2 = input()\n",
        "print(\"Si ingresaste los datos correctamente, tu número descodificado es este:\")\n",
        "print(decifrarMensaje(int(NumCod), int(Val1), int(Val2)))\n"
      ],
      "execution_count": 13,
      "outputs": [
        {
          "output_type": "stream",
          "text": [
            "¡Hola!, Ingresa el número codificado:\n",
            "16\n",
            "Ingresa el primer valor de la clave privada\n",
            "65\n",
            "Ingresa el segundo valor de la clave privada\n",
            "17\n",
            "Si ingresaste los datos correctamente, tu número descodificado es este:\n",
            "61\n"
          ],
          "name": "stdout"
        }
      ]
    },
    {
      "cell_type": "markdown",
      "metadata": {
        "id": "dE9qfSt6tfYd",
        "colab_type": "text"
      },
      "source": [
        "Valores aleatorios:"
      ]
    },
    {
      "cell_type": "code",
      "metadata": {
        "id": "cP2vCzxRORQf",
        "colab_type": "code",
        "colab": {
          "base_uri": "https://localhost:8080/",
          "height": 190
        },
        "outputId": "8e1289d1-6317-46d8-c384-f50931ae6690"
      },
      "source": [
        "h = -1\n",
        "a = random.randint(3000000000,3100000000)\n",
        "while h < 0:\n",
        "        p = FuncionPhi()\n",
        "        ClavePublica = hallarclavepublica(p[0], p[1])\n",
        "        ClavePrivada = hallarclaveprivada(p[1], p[0], ClavePublica[1])\n",
        "        h = ClavePrivada[1]\n",
        "        y = CifrarMensaje(int(a), ClavePublica[0], ClavePublica[1])\n",
        "print(\"El número a codificar es :\")\n",
        "print(a)\n",
        "print(\"¡Perfecto! Comparte la siguiente clave privada con tu compañero.\")\n",
        "print(ClavePrivada[0])\n",
        "print(ClavePrivada[1])\n",
        "print(\"Y este es el número codificado:\")\n",
        "print(y)\n",
        "print(\"El numero descodificado es:\")\n",
        "print(decifrarMensaje(y, int(ClavePrivada[0]), int(ClavePrivada[1])))\n"
      ],
      "execution_count": 29,
      "outputs": [
        {
          "output_type": "stream",
          "text": [
            "El número a codificar es :\n",
            "3064996297\n",
            "¡Perfecto! Comparte la siguiente clave privada con tu compañero.\n",
            "9038043475153900921658859956092473540783253959446826231920617142158000288151123691941221608167991416851266178700835467548562602838989587779905445111965730710223602553754302786674109956566000223997874555106990743919679030408104766071008911358120684108151406945140776943009720323940113947893975188690148695593496985842148918988250090260574296933714001777673751960197596694679243218192910799308049790527005949261846099241914448630256502671929358191743054946210619175847947921017554939972528580603819773471406358812625798392103071533121920772835999171610731811562464520915565302043711022009051476599648042030829632104079267\n",
            "4470978397955585307107242348654582657149720752571765944526298554451234989641862031443903104106462589139428597696828621787840544445168680009705882908423818538641428874997268840475370009160953252580148461585297866759806943880922583024283828259565901487001855460383473490143820509571471119110916098185181502870125946889410521190321753630933724741638558556408794255593047442616526473790310480056324359071688919582186110957662286317244141344152513811269251363068792114809425850090514373670564115469753685565008817304462951444768139479085582072918498920595542552982909639352053983260765064493949380007687607420854150920454229\n",
            "Y este es el número codificado:\n",
            "8811175503356522921092648796713834581846325108031887135892526762085559163337421643226354805137011571277518435154423376102305440369161653049416525939428972093430082161363076965801556230748649433293690692010974190294373765241300800620182871707267419500736761272492540962320603096415770722483813930448274519491598565393010243845613670041717756598573716511244039249527490626487217117432681771471613989548932054678293869423924710368315275690423732195581407551559886236180041218660992905380225243269253315155777974896726570260451686895029541600383812469285240408700766885878557243084468938174504645030302574655249635253405642\n",
            "El numero descodificado es:\n",
            "3064996297\n"
          ],
          "name": "stdout"
        }
      ]
    }
  ]
}