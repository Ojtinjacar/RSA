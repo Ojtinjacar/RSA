{
 "nbformat": 4,
 "nbformat_minor": 0,
 "metadata": {
  "kernelspec": {
   "display_name": "Python 3",
   "language": "python",
   "name": "python3"
  },
  "language_info": {
   "codemirror_mode": {
    "name": "ipython",
    "version": 3
   },
   "file_extension": ".py",
   "mimetype": "text/x-python",
   "name": "python",
   "nbconvert_exporter": "python",
   "pygments_lexer": "ipython3",
   "version": "3.7.6"
  },
  "colab": {
   "name": "RSA.ipynb",
   "provenance": []
  }
 },
 "cells": [
  {
   "cell_type": "markdown",
   "metadata": {
    "id": "oTwjf0NkIfcg",
    "colab_type": "text"
   },
   "source": [
    "Taller RSA\n",
    "\n",
    "El RSA es un sistema criptográfico de llave pública desarrollado en el año de 1979 por Rivest, Shamir y Adleman en MIT. Es uno de los algoritmos de este tipo más utilizados. En un sistema de criptografía de llave publica cada usuario posee dos llaves, una pública y otra privada. Cuando se quiere enviar un mensaje, el emisor busca la clave pública del receptor, cifra su mensaje con esa clave, y una vez que el mensaje cifrado llega al receptor, este se ocupa de descifrarlo usando su clave privada. La seguridad del algoritmo se basa en la dificultad de resolver el problema de factorización de números enteros."
   ]
  },
  {
   "cell_type": "markdown",
   "metadata": {
    "id": "CQHVRMveE47P",
    "colab_type": "text"
   },
   "source": [
    "Generación de claves\n",
    "\n",
    "Se eligen dos números primos distintos $p$  y $q$.\n",
    "\n",
    "Se calcula $n=p\\ast q$\n",
    "\n",
    "Donde $n$ se usará como el módulo para ambas claves, pública y privada.\n",
    "\n",
    "Con Se calcula$\\varphi (n)=(p-1)\\ast (q-1)$ usando las dos propiedades de la función de Euler siguientes:\n",
    "\n",
    "$\\varphi (p)=p-1$ si $p$ es primo.\n",
    "Si $m$ y $n$ son primos entre sí, entonces $\\varphi (mn)=\\varphi (m)\\varphi (n)$\n",
    "\n",
    "Se escoge un entero positivo $e$  menor que $\\varphi (n)$, que sea coprimo con $\\varphi (n)$.\n",
    "\n",
    "$e$ se da a conocer como el exponente de la clave pública.\n",
    "\n",
    "Se determina un $d$ que satisfaga la congruencia $ e\\ast d\\equiv 1 $(mod$\\varphi(n))$, es decir, que $d$  sea el multiplicador modular inverso de $ e\\equiv 1 $(mod$n$)\n",
    "\n",
    "La clave pública es $(n,e)$ , esto es, el módulo y el exponente de cifrado. La clave privada es $(n,d)$ , esto es, el módulo y el exponente de descifrado, que debe mantenerse en secreto.\n",
    "\n",
    "Para cifrar usamos la operación $a = x^e$mod($n$) donde x es el valor a codificar\n",
    "Para descifrar usamos la operación $x = a^d$mod($n$) donde a es el valor a descodificar\n",
    "\n"
   ]
  },
  {
   "cell_type": "markdown",
   "metadata": {
    "collapsed": false,
    "pycharm": {
     "name": "#%% md\n"
    },
    "id": "p4ziF2hWIfci",
    "colab_type": "text"
   },
   "source": [
    " En primer lugar, el algoritmo nos pide tomar dos numeros primos muy grandes (más de 200 dígitos). Para ello, usaremos 3 funciones cuya finalidad será retornar un numero primo que nos sirva para el código."
   ]
  },
  {
   "cell_type": "markdown",
   "metadata": {
    "pycharm": {
     "name": "#%% md\n"
    },
    "id": "jOFrDILtIfck",
    "colab_type": "text"
   },
   "source": [
    "En esta primera parte, inicializamos el rango de numeros para generar el número aleatorio."
   ]
  },
  {
   "cell_type": "code",
   "metadata": {
    "pycharm": {
     "name": "#%%\n"
    },
    "id": "_WumLadvIfcm",
    "colab_type": "code",
    "colab": {}
   },
   "source": [
    "import random\n",
    "flag20 = True\n",
    "RangoIni = 1000000000000000000000000000000000000000000000000000000000000000000000000000000000000000000000000000000000000000000000000000000000000000000000000000000000000000000000000000000000000000000000000000000000000000000000000000\n",
    "RangoFin = 9999999999999999999999999999999999999999999999999999999999999999999999999999999999999999999999999999999999999999999999999999999999999999999999999999999999999999999999999999999999999999999999999999999999999999999999999999999999999999999999999999999999999999999999999999999999999999999999999999999999999999999999\n"
   ],
   "execution_count": 1,
   "outputs": []
  },
  {
   "cell_type": "markdown",
   "metadata": {
    "pycharm": {
     "name": "#%% md\n"
    },
    "id": "pJQS9003Ifcv",
    "colab_type": "text"
   },
   "source": [
    "Esta primera función llamada \"EsPrimoo\" retorna un valor booleano el cuál determina si un número es primo o no.\n",
    "\n",
    "Para ello, hace uso de una función llamada \"TestMiller\", la cuál hablaremos más adelante."
   ]
  },
  {
   "cell_type": "code",
   "metadata": {
    "pycharm": {
     "name": "#%%\n"
    },
    "id": "a1Cy-DUNIfcx",
    "colab_type": "code",
    "colab": {}
   },
   "source": [
    "def EsPrimoo(n, k):\n",
    "    if (n <= 1 or n == 4):\n",
    "        return False\n",
    "    if (n <= 3):\n",
    "        return True\n",
    "    d = n - 1\n",
    "    while (d % 2 == 0):\n",
    "        d //= 2\n",
    "    for i in range(k):\n",
    "        if (TestMiller(d, n) == False):\n",
    "            return False\n",
    "\n",
    "    return True\n"
   ],
   "execution_count": 2,
   "outputs": []
  },
  {
   "cell_type": "markdown",
   "metadata": {
    "pycharm": {
     "name": "#%% md\n"
    },
    "id": "8BTtUltpIfdA",
    "colab_type": "text"
   },
   "source": [
    "Este algoritmo funciona para números impares y retorna un valor booleano donde sí, es verdadero, este numero es primo, de lo contrario, no lo es.\n",
    "\n",
    "Para ello hacemos uso de la función $pow$ (la cuál se encuentra en la tercera línea) , que retorna el valor x de la siguiente ecuación $a^d = x$mod($n$).\n",
    "\n"
   ]
  },
  {
   "cell_type": "code",
   "metadata": {
    "id": "mocMTANUIfdC",
    "colab_type": "code",
    "colab": {},
    "pycharm": {
     "name": "#%%\n"
    }
   },
   "source": [
    "def TestMiller(d, n):\n",
    "    a = 2 + random.randint(1, n - 4)\n",
    "    x = pow(a, d, n)\n",
    "\n",
    "    if (x == 1 or x == n - 1):\n",
    "        return True\n",
    "    while (d != n - 1):\n",
    "        x = (x * x) % n\n",
    "        d *= 2\n",
    "        if (x == 1):\n",
    "            return False\n",
    "        if (x == n - 1):\n",
    "            return True\n",
    "    return False\n"
   ],
   "execution_count": 3,
   "outputs": []
  },
  {
   "cell_type": "markdown",
   "metadata": {
    "collapsed": false,
    "pycharm": {
     "name": "#%% md\n"
    },
    "id": "DH-30-WcIfdH",
    "colab_type": "text"
   },
   "source": [
    "Esta función llamada $FuncionPhi()$ crea dos numeros enteros, usando la funcion $numprimo()$ y con estos números, hallará los valores $z$ y $o$. $z$ representa uno de los valores de la clave pública y privada, mientras que el otro servirá de modulo. Mientras que el valor $o$ será útil para hallar la clave privada."
   ]
  },
  {
   "cell_type": "code",
   "metadata": {
    "id": "gqAYB9ZaSGGK",
    "colab_type": "code",
    "colab": {},
    "pycharm": {
     "name": "#%%\n"
    }
   },
   "source": [
    "def FuncionPhi():\n",
    "    primoA = numprimo()\n",
    "    primoB = numprimo()\n",
    "    z = primoA*primoB\n",
    "    o = (primoA-1)*(primoB-1)\n",
    "    return o,z\n"
   ],
   "execution_count": 4,
   "outputs": []
  },
  {
   "cell_type": "markdown",
   "metadata": {
    "id": "XmuI3F64SHO6",
    "colab_type": "text",
    "pycharm": {
     "name": "#%% md\n"
    }
   },
   "source": [
    "La función $numprimo()$ se encarga de generar un número aleatorio entre los dos rangos previamente inicializados y evaluarlo mediante la función $EsPrimoo()$ retornando el número primo. "
   ]
  },
  {
   "cell_type": "code",
   "metadata": {
    "pycharm": {
     "name": "#%%\n"
    },
    "id": "k_Dir-uoIfdI",
    "colab_type": "code",
    "colab": {}
   },
   "source": [
    "def numprimo():\n",
    "    flag = False\n",
    "    while flag != True:\n",
    "        sumtres = 0\n",
    "        a = random.randint(RangoIni, RangoFin)\n",
    "        b = str(a)\n",
    "        for d in b:\n",
    "            sumtres = sumtres + int(d)\n",
    "        c = b[len(b) - 1]\n",
    "        if int(c) != 2 and int(c) != 4 and int(c) != 5 and int(c) != 6 and int(c) != 8 and int(c) != 0 and (\n",
    "                sumtres % 3) > 0:\n",
    "            y = EsPrimoo(a, 4)\n",
    "            flag = y\n",
    "    return a\n"
   ],
   "execution_count": 5,
   "outputs": []
  },
  {
   "cell_type": "markdown",
   "metadata": {
    "collapsed": false,
    "pycharm": {
     "name": "#%% md\n"
    },
    "id": "bvywOKm3IfdP",
    "colab_type": "text"
   },
   "source": [
    "La función $hallarclavepublica(i,z)$ recibe dos parametros, siendo $i$ el valor $o$ de $FuncionPhi()$ y $z$ el valor $z$ de $FuncionPhi()$.\n",
    "Esta función crea un número primo llamado $k$ pero, este número debe ser coprimo de $i$, finalmente retorna la clave pública en una tupla."
   ]
  },
  {
   "cell_type": "code",
   "metadata": {
    "pycharm": {
     "name": "#%%\n"
    },
    "id": "P7ebT-aDIfdR",
    "colab_type": "code",
    "colab": {}
   },
   "source": [
    "def hallarclavepublica(i,z):\n",
    "    flag = False\n",
    "    while flag != True:\n",
    "        k = numprimo()\n",
    "        if k % i != 0:\n",
    "            flag = True\n",
    "    return z,k\n"
   ],
   "execution_count": 6,
   "outputs": []
  },
  {
   "cell_type": "markdown",
   "metadata": {
    "collapsed": false,
    "id": "hFMP6O79Ifdp",
    "colab_type": "text",
    "pycharm": {
     "name": "#%% md\n"
    }
   },
   "source": [
    "La función $hallarclaveprivada(u,e,o)$ usa la función del algoritmo de euclides extendido para retornar el valor $a$ en la función $a \\ast o \\equiv 1 $ mod($e$).\n",
    "Esta función retorna la clave privada como tupla."
   ]
  },
  {
   "cell_type": "code",
   "metadata": {
    "pycharm": {
     "name": "#%%\n"
    },
    "id": "6Gsy4d0yIfdq",
    "colab_type": "code",
    "colab": {}
   },
   "source": [
    "def hallarclaveprivada(u,e,o):\n",
    "    a = AlgoritmoEuclides(e, o)\n",
    "    return u,a\n"
   ],
   "execution_count": 7,
   "outputs": []
  },
  {
   "cell_type": "markdown",
   "metadata": {
    "collapsed": false,
    "pycharm": {
     "name": "#%% md\n"
    },
    "id": "ZUpUaGy_Ifdu",
    "colab_type": "text"
   },
   "source": [
    "  El algoritmo de euclides retorna el valor $c$ en la función $c \\ast b \\equiv 1 $ mod($a$)\n",
    "\n",
    "  Demostración:\n",
    " \n",
    "  Supongamos que $a$ y $b$ son enteros positivos.\n",
    "\n",
    "  Aplicamos el teorema de la división repetivamente formando una lista de ecuaciones.\n",
    "  $a= q_1b + r_1$\n",
    "\n",
    "  $a= q_2r_1 + r_2$\n",
    "\n",
    "  $r_1 = q_3r_2 + r_3$ \n",
    "\n",
    "  $r_2 = q_4r_3 + r_4$ \n",
    "\n",
    "  Así sucesivamente, hasta encontrar que el resto sea $0$\n",
    "  Cuando encontramos que el resto es $0$, nos retornará el valor $q_n$\n"
   ]
  },
  {
   "cell_type": "code",
   "metadata": {
    "pycharm": {
     "name": "#%%\n"
    },
    "id": "vv5utf6JIfdv",
    "colab_type": "code",
    "colab": {}
   },
   "source": [
    "def AlgoritmoEuclides(a, b):\n",
    "    if b == 0:\n",
    "        return 0\n",
    "\n",
    "    u0 = 1\n",
    "    u1 = 0\n",
    "    v0 = 0\n",
    "    v1 = 1\n",
    "\n",
    "    while b != 0:\n",
    "        q = a // b\n",
    "        r = a - b * q\n",
    "        u = u0 - q * u1\n",
    "        v = v0 - q * v1\n",
    "        a = b\n",
    "        b = r\n",
    "        u0 = u1\n",
    "        u1 = u\n",
    "        v0 = v1\n",
    "        v1 = v\n",
    "\n",
    "    return v0\n"
   ],
   "execution_count": 8,
   "outputs": []
  },
  {
   "cell_type": "markdown",
   "metadata": {
    "collapsed": false,
    "pycharm": {
     "name": "#%% md\n"
    },
    "id": "AwOKYD3UIfd0",
    "colab_type": "text"
   },
   "source": [
    "La función $CifrarMensaje(numero, ClavePublica1, ClavePublica2)$ nos pide 3 parametros, los cuales son el número a codificar y los dos valores de la clave pública. \n",
    "\n",
    "Haremos uso de la función de python $pow$, la cuál retorna el valor x de la siguiente ecuación $a^d = x$mod($n$).\n",
    "\n",
    "Retornando el número codificado.\n"
   ]
  },
  {
   "cell_type": "code",
   "metadata": {
    "pycharm": {
     "name": "#%%\n"
    },
    "id": "GhdDbQWiIfd1",
    "colab_type": "code",
    "colab": {}
   },
   "source": [
    "def CifrarMensaje(number,ClavePublica1,ClavePublica2):\n",
    "    Final = pow(number, ClavePublica2, ClavePublica1)\n",
    "    return Final\n"
   ],
   "execution_count": 9,
   "outputs": []
  },
  {
   "cell_type": "markdown",
   "metadata": {
    "collapsed": false,
    "pycharm": {
     "name": "#%% md\n"
    },
    "id": "2pLEun8SIfd9",
    "colab_type": "text"
   },
   "source": [
    "La función $CifrarMensaje(numero, ClavePrivada1, ClavePrivada2)$ nos pide 3 parametros, los cuales son el número a descodificar y los dos valores de la clave privada. \n",
    "\n",
    "Haremos uso de la función de python $pow$, la cuál retorna el valor x de la siguiente ecuación $a^d = x$mod($n$).\n",
    "\n",
    "Y retornará el número descodificado.\n"
   ]
  },
  {
   "cell_type": "code",
   "metadata": {
    "pycharm": {
     "name": "#%%\n"
    },
    "id": "gLpXMHSlIfeB",
    "colab_type": "code",
    "colab": {}
   },
   "source": [
    "def decifrarMensaje(number,ClavePrivada1,ClavePrivada2):\n",
    "    NumberDes = pow(number, ClavePrivada2, ClavePrivada1)\n",
    "    return NumberDes\n"
   ],
   "execution_count": 10,
   "outputs": []
  },
  {
   "cell_type": "markdown",
   "metadata": {
    "collapsed": false,
    "pycharm": {
     "name": "#%% md\n"
    },
    "id": "kpv_0SzwIfeI",
    "colab_type": "text"
   },
   "source": [
    "Ejemplo 1: \n",
    "Ingresando Valores"
   ]
  },
  {
   "cell_type": "code",
   "execution_count": 11,
   "outputs": [
    {
     "name": "stdout",
     "output_type": "stream",
     "text": [
      "Ingresa el numero que quieres codificar:\n"
     ]
    },
    {
     "ename": "ValueError",
     "evalue": "invalid literal for int() with base 10: ''",
     "output_type": "error",
     "traceback": [
      "\u001B[1;31m---------------------------------------------------------------------------\u001B[0m",
      "\u001B[1;31mValueError\u001B[0m                                Traceback (most recent call last)",
      "\u001B[1;32m<ipython-input-11-c1a19d94452f>\u001B[0m in \u001B[0;36m<module>\u001B[1;34m\u001B[0m\n\u001B[0;32m      7\u001B[0m         \u001B[0mClavePrivada\u001B[0m \u001B[1;33m=\u001B[0m \u001B[0mhallarclaveprivada\u001B[0m\u001B[1;33m(\u001B[0m\u001B[0mp\u001B[0m\u001B[1;33m[\u001B[0m\u001B[1;36m1\u001B[0m\u001B[1;33m]\u001B[0m\u001B[1;33m,\u001B[0m \u001B[0mp\u001B[0m\u001B[1;33m[\u001B[0m\u001B[1;36m0\u001B[0m\u001B[1;33m]\u001B[0m\u001B[1;33m,\u001B[0m \u001B[0mClavePublica\u001B[0m\u001B[1;33m[\u001B[0m\u001B[1;36m1\u001B[0m\u001B[1;33m]\u001B[0m\u001B[1;33m)\u001B[0m\u001B[1;33m\u001B[0m\u001B[1;33m\u001B[0m\u001B[0m\n\u001B[0;32m      8\u001B[0m         \u001B[0mh\u001B[0m \u001B[1;33m=\u001B[0m \u001B[0mClavePrivada\u001B[0m\u001B[1;33m[\u001B[0m\u001B[1;36m1\u001B[0m\u001B[1;33m]\u001B[0m\u001B[1;33m\u001B[0m\u001B[1;33m\u001B[0m\u001B[0m\n\u001B[1;32m----> 9\u001B[1;33m         \u001B[0my\u001B[0m \u001B[1;33m=\u001B[0m \u001B[0mCifrarMensaje\u001B[0m\u001B[1;33m(\u001B[0m\u001B[0mint\u001B[0m\u001B[1;33m(\u001B[0m\u001B[0ma\u001B[0m\u001B[1;33m)\u001B[0m\u001B[1;33m,\u001B[0m \u001B[0mClavePublica\u001B[0m\u001B[1;33m[\u001B[0m\u001B[1;36m0\u001B[0m\u001B[1;33m]\u001B[0m\u001B[1;33m,\u001B[0m \u001B[0mClavePublica\u001B[0m\u001B[1;33m[\u001B[0m\u001B[1;36m1\u001B[0m\u001B[1;33m]\u001B[0m\u001B[1;33m)\u001B[0m\u001B[1;33m\u001B[0m\u001B[1;33m\u001B[0m\u001B[0m\n\u001B[0m\u001B[0;32m     10\u001B[0m \u001B[0mprint\u001B[0m\u001B[1;33m(\u001B[0m\u001B[1;34m\"¡Perfecto! Comparte la siguiente clave privada con tu compañero.\"\u001B[0m\u001B[1;33m)\u001B[0m\u001B[1;33m\u001B[0m\u001B[1;33m\u001B[0m\u001B[0m\n\u001B[0;32m     11\u001B[0m \u001B[0mprint\u001B[0m\u001B[1;33m(\u001B[0m\u001B[0mClavePrivada\u001B[0m\u001B[1;33m[\u001B[0m\u001B[1;36m0\u001B[0m\u001B[1;33m]\u001B[0m\u001B[1;33m)\u001B[0m\u001B[1;33m\u001B[0m\u001B[1;33m\u001B[0m\u001B[0m\n",
      "\u001B[1;31mValueError\u001B[0m: invalid literal for int() with base 10: ''"
     ]
    }
   ],
   "source": [
    "print(\"Ingresa el numero que quieres codificar:\")\n",
    "a = input()\n",
    "h = -1\n",
    "while h < 0:\n",
    "        p = FuncionPhi()\n",
    "        ClavePublica = hallarclavepublica(p[0], p[1])\n",
    "        ClavePrivada = hallarclaveprivada(p[1], p[0], ClavePublica[1])\n",
    "        h = ClavePrivada[1]\n",
    "        y = CifrarMensaje(int(a), ClavePublica[0], ClavePublica[1])\n",
    "print(\"¡Perfecto! Comparte la siguiente clave privada con tu compañero.\")\n",
    "print(ClavePrivada[0])\n",
    "print(ClavePrivada[1])\n",
    "print(\"Y este es el número codificado:\")\n",
    "print(y)\n"
   ],
   "metadata": {
    "collapsed": false,
    "pycharm": {
     "name": "#%%\n"
    }
   }
  },
  {
   "cell_type": "code",
   "execution_count": null,
   "outputs": [],
   "source": [
    "print(\"¡Hola!, Ingresa el número codificado:\")\n",
    "NumCod = input()\n",
    "print(\"Ingresa el primer valor de la clave privada\")\n",
    "Val1 = input()\n",
    "print(\"Ingresa el segundo valor de la clave privada\")\n",
    "Val2 = input()\n",
    "print(\"Si ingresaste los datos correctamente, tu número descodificado es este:\")\n",
    "print(decifrarMensaje(int(NumCod), int(Val1), int(Val2)))\n"
   ],
   "metadata": {
    "collapsed": false,
    "pycharm": {
     "name": "#%%\n"
    }
   }
  },
  {
   "cell_type": "markdown",
   "source": [
    "Valores aleatorios:"
   ],
   "metadata": {
    "collapsed": false
   }
  },
  {
   "cell_type": "code",
   "execution_count": null,
   "outputs": [],
   "source": [
    "h = -1\n",
    "a = random.randint(3000000000,3100000000)\n",
    "while h < 0:\n",
    "        p = FuncionPhi()\n",
    "        ClavePublica = hallarclavepublica(p[0], p[1])\n",
    "        ClavePrivada = hallarclaveprivada(p[1], p[0], ClavePublica[1])\n",
    "        h = ClavePrivada[1]\n",
    "        y = CifrarMensaje(int(a), ClavePublica[0], ClavePublica[1])\n",
    "print(\"El número a codificar es :\")\n",
    "print(a)\n",
    "print(\"¡Perfecto! Comparte la siguiente clave privada con tu compañero.\")\n",
    "print(ClavePrivada[0])\n",
    "print(ClavePrivada[1])\n",
    "print(\"Y este es el número codificado:\")\n",
    "print(y)\n",
    "print(\"El numero descodificado es:\")\n",
    "print(decifrarMensaje(y, int(ClavePrivada[0]), int(ClavePrivada[1])))\n"
   ],
   "metadata": {
    "collapsed": false,
    "pycharm": {
     "name": "#%%\n"
    }
   }
  },
  {
   "cell_type": "code",
   "metadata": {
    "pycharm": {
     "name": "#%%\n",
     "is_executing": true
    },
    "id": "-NzFCAR-IfeJ",
    "colab_type": "code",
    "colab": {
     "base_uri": "https://localhost:8080/",
     "height": 156
    },
    "outputId": "e8ffef99-1571-4ff1-e2c5-cb8310db3777"
   },
   "source": [
    "h = -1\n",
    "a = random.randint(3000000000,3100000000)\n",
    "while h < 0:\n",
    "        p = FuncionPhi()\n",
    "        ClavePublica = hallarclavepublica(p[0], p[1])\n",
    "        ClavePrivada = hallarclaveprivada(p[1], p[0], ClavePublica[1])\n",
    "        h = ClavePrivada[1]\n",
    "        y = CifrarMensaje(int(a), ClavePublica[0], ClavePublica[1])\n",
    "print(\"El número a codificar es :\")\n",
    "print(a)\n",
    "print(\"¡Perfecto! Comparte la siguiente clave privada con tu compañero.\")\n",
    "print(ClavePrivada[0])\n",
    "print(ClavePrivada[1])\n",
    "print(\"Y este es el número codificado:\")\n",
    "print(y)\n",
    "print(\"El numero descodificado es:\")\n",
    "print(decifrarMensaje(y, int(ClavePrivada[0]), int(ClavePrivada[1])))\n"
   ],
   "execution_count": 21,
   "outputs": [
    {
     "output_type": "stream",
     "text": [
      "Ingresa el numero que quieres codificar:\n",
      "13\n",
      "¡Perfecto! Comparte la siguiente clave privada con tu compañero.\n",
      "35697458897789228828546940785515862116115462530123590704079144156507319274806898835662840486227844595286151104656315364423377515964146708451663886668866057492507009084491299558374994257210758271508281685808360350733836968464332868465311771492986128250915734339205417670572318261586913325389039744677190807871125266822025282537805829661867\n",
      "6868945377609099218821522917075675993676644883236257506734028803246900075197753887812675743908049028645354846472370479223707963354725959134238505486774878893444923872677169458216692020316731025908441192223298331569710675355831122925627170550074121168113561103377476189511780044712743972048299914066405114154226115791260965972357644366899\n",
      "Y este es el número codificado:\n",
      "9760056763957168558483817891869525226437138372100184071265188423068154979535449558547284192165966632746837555372165141894422866216852941832790768779063473218496610496851587779549952906924669851640537613827799971215385060591007444819864462805928774453581448846533487299126390400602224027101996676682967574898630541892790179781934857177190\n"
     ],
     "name": "stdout"
    }
   ]
  },
  {
   "cell_type": "code",
   "metadata": {
    "id": "pGZafnrWte3I",
    "colab_type": "code",
    "colab": {
     "base_uri": "https://localhost:8080/",
     "height": 173
    },
    "outputId": "39c01cdb-7d72-4896-8185-1c86463f85a5"
   },
   "source": [
    "print(\"¡Hola!, Ingresa el número codificado:\")\n",
    "NumCod = input()\n",
    "print(\"Ingresa el primer valor de la clave privada\")\n",
    "Val1 = input()\n",
    "print(\"Ingresa el segundo valor de la clave privada\")\n",
    "Val2 = input()\n",
    "print(\"Si ingresaste los datos correctamente, tu número descodificado es este:\")\n",
    "print(decifrarMensaje(int(NumCod), int(Val1), int(Val2)))\n"
   ],
   "execution_count": 23,
   "outputs": [
    {
     "output_type": "stream",
     "text": [
      "¡Hola!, Ingresa el número codificado:\n",
      "9760056763957168558483817891869525226437138372100184071265188423068154979535449558547284192165966632746837555372165141894422866216852941832790768779063473218496610496851587779549952906924669851640537613827799971215385060591007444819864462805928774453581448846533487299126390400602224027101996676682967574898630541892790179781934857177190\n",
      "Ingresa el primer valor de la clave privada\n",
      "35697458897789228828546940785515862116115462530123590704079144156507319274806898835662840486227844595286151104656315364423377515964146708451663886668866057492507009084491299558374994257210758271508281685808360350733836968464332868465311771492986128250915734339205417670572318261586913325389039744677190807871125266822025282537805829661867\n",
      "Ingresa el segundo valor de la clave privada\n",
      "6868945377609099218821522917075675993676644883236257506734028803246900075197753887812675743908049028645354846472370479223707963354725959134238505486774878893444923872677169458216692020316731025908441192223298331569710675355831122925627170550074121168113561103377476189511780044712743972048299914066405114154226115791260965972357644366899\n",
      "Si ingresaste los datos correctamente, tu número descodificado es este:\n",
      "13\n"
     ],
     "name": "stdout"
    }
   ]
  },
  {
   "cell_type": "markdown",
   "metadata": {
    "id": "dE9qfSt6tfYd",
    "colab_type": "text"
   },
   "source": [
    "Valores aleatorios:"
   ]
  },
  {
   "cell_type": "code",
   "metadata": {
    "id": "cP2vCzxRORQf",
    "colab_type": "code",
    "colab": {
     "base_uri": "https://localhost:8080/",
     "height": 190
    },
    "outputId": "7f48ecca-1cdc-414c-eb19-3351dced7922"
   },
   "source": [
    "h = -1\n",
    "a = random.randint(3000000000,3100000000)\n",
    "while h < 0:\n",
    "        p = FuncionPhi()\n",
    "        ClavePublica = hallarclavepublica(p[0], p[1])\n",
    "        ClavePrivada = hallarclaveprivada(p[1], p[0], ClavePublica[1])\n",
    "        h = ClavePrivada[1]\n",
    "        y = CifrarMensaje(int(a), ClavePublica[0], ClavePublica[1])\n",
    "print(\"El número a codificar es :\")\n",
    "print(a)\n",
    "print(\"¡Perfecto! Comparte la siguiente clave privada con tu compañero.\")\n",
    "print(ClavePrivada[0])\n",
    "print(ClavePrivada[1])\n",
    "print(\"Y este es el número codificado:\")\n",
    "print(y)\n",
    "print(\"El numero descodificado es:\")\n",
    "print(decifrarMensaje(y, int(ClavePrivada[0]), int(ClavePrivada[1])))\n"
   ],
   "execution_count": 24,
   "outputs": [
    {
     "output_type": "stream",
     "text": [
      "El número a codificar es :\n",
      "3096961761\n",
      "¡Perfecto! Comparte la siguiente clave privada con tu compañero.\n",
      "1140292590078023653981430857109660373234822931135561617429451362901217691308731912361125915890065396710320833724176305549332246287120897238429215650148049725188163014968447805298139187574679304341904596410259645285001352870790719424352111964808477932717560008649134751747236833169893012728887360858419999477628408146099879208806202969737\n",
      "116185337580922483091905893990316704688371420395731766541648237571607929386345790903244128830528067008118156860074714608814944763846525665219402950655105209166664434084384311809299738996789937730721191443850813932331290222388975209512797148420676556955356558984233678769291341915446104963892642749175637773828694667677667516510257147209\n",
      "Y este es el número codificado:\n",
      "1107399127677060801723848564175141713605944901373548120183007169090041520557139162583915102383227208495464773073385012614380358801416477295337366539087187095670676469315782738648190342010028218689856201957270432478722030238330018881708850551124083102810790335387760404257264403469933063637069562695768655429099147745494583140306441209998\n",
      "El numero descodificado es:\n",
      "3096961761\n"
     ],
     "name": "stdout"
    }
   ]
  }
 ]
}